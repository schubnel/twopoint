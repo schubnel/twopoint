{
 "cells": [
  {
   "cell_type": "code",
   "execution_count": 113,
   "metadata": {
    "collapsed": true
   },
   "outputs": [],
   "source": [
    "from math import *\n",
    "from numpy import *\n",
    "from scipy import integrate\n",
    "from scipy.interpolate import InterpolatedUnivariateSpline\n",
    "fd = open(\"random\", \"r\")\n",
    "sd = open(\"bao\", \"w\")"
   ]
  },
  {
   "cell_type": "code",
   "execution_count": 108,
   "metadata": {},
   "outputs": [],
   "source": [
    "# Values for the cosmic parameters\n",
    "c = 3.0*10**5\n",
    "Om = 0.3\n",
    "H0 = 72.0\n",
    "Ol = 0.7\n",
    "rty = 2.0\n",
    "# Formula for radial diameter distance\n",
    "func = lambda z: 1.0/sqrt(Om*(1.0 + z)**3 +0.7)\n",
    "listyy = []\n",
    "listss = []\n",
    "ss = 0.01\n",
    "# Integrating the radial distance and forming the angular\n",
    "# diameter distance with a spline of the radial distance\n",
    "while ss <= rty:\n",
    "    y, err = integrate.quad(func, 0.0, ss)\n",
    "    listss.append(ss)\n",
    "    listyy.append(y)\n",
    "    ss = ss + 0.01\n",
    "Hz = InterpolatedUnivariateSpline(listss, listyy)\n",
    "def angdist(zz):\n",
    "    value = c*(1.0 + zz)/H0 * Hz(zz)\n",
    "    return(value)\n",
    "\n",
    "listxD = []; listyD = []; listzD = []; weightD = []; listxR = []; listyR = []; listzR = []\n",
    "weightR = []; a=1; b=2; n=0; k=0"
   ]
  },
  {
   "cell_type": "code",
   "execution_count": 116,
   "metadata": {},
   "outputs": [
    {
     "name": "stdout",
     "output_type": "stream",
     "text": [
      "0   -4.853108e+10\n",
      "1    4.951450e+09\n",
      "2   -3.493681e+10\n",
      "3    4.717214e+10\n",
      "4    1.266730e+11\n",
      "Name: 1, dtype: float64\n",
      "[  1.31664070e+10   2.52698943e+10   1.53994313e+10   2.38508399e+10\n",
      "   5.46668937e+10]\n",
      "[]\n",
      "CPU times: user 6.41 s, sys: 107 ms, total: 6.52 s\n",
      "Wall time: 6.52 s\n"
     ]
    }
   ],
   "source": [
    "%%time\n",
    "import pandas as pd\n",
    "df_lrg=pd.read_csv(\"lrg\", sep=' ',header=None)\n",
    "red = df_lrg.iloc[:,0]\n",
    "angle = df_lrg.iloc[:,1]\n",
    "dec = df_lrg.iloc[:,2]\n",
    "weightD = df_lrg.iloc[:,3]\n",
    "dist = [angdist(r) for r in red]\n",
    "dd = [((pi/2.0) - d) for d in dec] # Converting declination into polar angle\n",
    "# Converting into spherical coordinates\n",
    "listxD = dist*cos(angle)*sin(dd)\n",
    "listyD = dist*sin(angle)*sin(dd)\n",
    "listzD = dist*cos(dd)\n",
    "n=len(listxD)\n",
    "df_rnd=pd.read_csv(\"random\", sep=',',header=None)\n",
    "red = df_rnd.iloc[:,0]\n",
    "angle = df_rnd.iloc[:,1]\n",
    "dec = df_rnd.iloc[:,2]\n",
    "weightD = df_rnd.iloc[:,3]\n",
    "dist = [angdist(r) for r in red]\n",
    "dd = [((pi/2.0) - d) for d in dec] # Converting declination into polar angle\n",
    "# Converting into spherical coordinates\n",
    "listxR = dist*cos(angle)*sin(dd)\n",
    "listyR = dist*sin(angle)*sin(dd)\n",
    "listzR = dist*cos(dd)\n",
    "n=len(listxR)"
   ]
  },
  {
   "cell_type": "code",
   "execution_count": 117,
   "metadata": {},
   "outputs": [],
   "source": [
    "fuzzy = 0\n",
    "compare = 100000\n",
    "bins = 201\n",
    "# This is the size of the bins\n",
    "size = 1.0\n",
    "counter = 0\n",
    "listD = bins*[0]\n",
    "listR = bins*[0]\n",
    "listDR = bins*[0]"
   ]
  },
  {
   "cell_type": "code",
   "execution_count": 114,
   "metadata": {},
   "outputs": [
    {
     "name": "stdout",
     "output_type": "stream",
     "text": [
      "[]\n",
      "[]\n",
      "[]\n"
     ]
    }
   ],
   "source": [
    "# To reduce computation time, instead of checking if distances are less than 200 Mpc,\n",
    "# instead check off against 200^2. \n",
    "# This prevents the code from unnecessarily doing a square root for every calculation.comp = 40000.0\n",
    "m=0\n",
    "while m < n:\n",
    "    x0 = listxD[m]\n",
    "    y0 = listyD[m]\n",
    "    z0 = listzD[m]\n",
    "    w = weightD[m]\n",
    "    # Setting the parameter space around the origin galaxy\n",
    "    u = x0 + 200.0\n",
    "    i = x0 - 200.0\n",
    "    o = y0 + 200.0\n",
    "    p = y0 - 200.0\n",
    "    r = z0 + 200.0\n",
    "    t = z0 - 200.0\n",
    "    listxt = []\n",
    "    listyt = []\n",
    "    listzt = []\n",
    "    wwt = []\n",
    "    oo = 0\n",
    "    for j in range(m + 1, n):\n",
    "        x1 = listxD[j]\n",
    "        y1 = listyD[j]\n",
    "        z1 = listzD[j]\n",
    "        ww1 = weightD[j]\n",
    "        # Checking to see which galaxies are within the volume demarcated around\n",
    "        # the origin galaxy\n",
    "        if i < x1 < u and p < y1 < o and t < z1 < r:\n",
    "            listxt.append(x1)\n",
    "            listyt.append(y1)\n",
    "            listzt.append(z1)\n",
    "            wwt.append(ww1)\n",
    "            oo = oo + 1\n",
    "    for e in range(0, oo):\n",
    "        x2 = listxt[e]\n",
    "        y2 = listyt[e]\n",
    "        z2 = listzt[e]\n",
    "        ww2 = wwt[e]\n",
    "        # Calculating the distance from the x, y, z coordinates\n",
    "        dd = (x0 - x2)**2 + (y0 - y2)**2 + (z0 - z2)**2\n",
    "        \n",
    "        if dd <= comp:\n",
    "            # Checking to see which bin the distance is to be assigned to\n",
    "            ds = int(sqrt(dd)/size)\n",
    "            io = ww2 * w\n",
    "            listD[ds] = listD[ds] + io\n",
    "            counter = counter + 1\n",
    "            fuzzy = fuzzy + 1\n",
    "            if fuzzy == compare:\n",
    "                print fuzzy\n",
    "                compare = compare + 100000\n",
    "        m=m+1 # --- is this the rught indent?\n",
    "        \n",
    "        "
   ]
  }
 ],
 "metadata": {
  "kernelspec": {
   "display_name": "Python 3",
   "language": "python",
   "name": "python3"
  },
  "language_info": {
   "codemirror_mode": {
    "name": "ipython",
    "version": 3
   },
   "file_extension": ".py",
   "mimetype": "text/x-python",
   "name": "python",
   "nbconvert_exporter": "python",
   "pygments_lexer": "ipython3",
   "version": "3.6.3"
  }
 },
 "nbformat": 4,
 "nbformat_minor": 2
}
